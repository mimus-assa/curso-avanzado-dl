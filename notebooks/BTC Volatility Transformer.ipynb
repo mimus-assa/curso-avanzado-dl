{
 "cells": [
  {
   "cell_type": "code",
   "execution_count": 1,
   "id": "2c67c28f-4dc4-4c0b-80c0-d9725bc613c6",
   "metadata": {},
   "outputs": [],
   "source": [
    "import pandas as pd\n",
    "import numpy as np\n",
    "from sklearn.preprocessing import MinMaxScaler\n",
    "from pandas import Series\n",
    "import tensorflow as tf\n",
    "from tensorflow.keras.models import *\n",
    "from tensorflow.keras.layers import *\n",
    "from livelossplot import PlotLossesKeras\n",
    "import tensorflow_addons as tfa\n"
   ]
  },
  {
   "cell_type": "code",
   "execution_count": 2,
   "id": "47ee9973-d390-4f5e-a2b7-f3d01fb602ec",
   "metadata": {},
   "outputs": [
    {
     "data": {
      "text/html": [
       "<div>\n",
       "<style scoped>\n",
       "    .dataframe tbody tr th:only-of-type {\n",
       "        vertical-align: middle;\n",
       "    }\n",
       "\n",
       "    .dataframe tbody tr th {\n",
       "        vertical-align: top;\n",
       "    }\n",
       "\n",
       "    .dataframe thead th {\n",
       "        text-align: right;\n",
       "    }\n",
       "</style>\n",
       "<table border=\"1\" class=\"dataframe\">\n",
       "  <thead>\n",
       "    <tr style=\"text-align: right;\">\n",
       "      <th></th>\n",
       "      <th>open</th>\n",
       "      <th>high</th>\n",
       "      <th>low</th>\n",
       "      <th>close</th>\n",
       "    </tr>\n",
       "    <tr>\n",
       "      <th>timestamp</th>\n",
       "      <th></th>\n",
       "      <th></th>\n",
       "      <th></th>\n",
       "      <th></th>\n",
       "    </tr>\n",
       "  </thead>\n",
       "  <tbody>\n",
       "    <tr>\n",
       "      <th>1546323300</th>\n",
       "      <td>3691.5</td>\n",
       "      <td>3691.5</td>\n",
       "      <td>3691.0</td>\n",
       "      <td>3691.5</td>\n",
       "    </tr>\n",
       "    <tr>\n",
       "      <th>1546323600</th>\n",
       "      <td>3691.5</td>\n",
       "      <td>3691.5</td>\n",
       "      <td>3691.0</td>\n",
       "      <td>3691.0</td>\n",
       "    </tr>\n",
       "    <tr>\n",
       "      <th>1546323900</th>\n",
       "      <td>3691.0</td>\n",
       "      <td>3691.5</td>\n",
       "      <td>3688.5</td>\n",
       "      <td>3689.0</td>\n",
       "    </tr>\n",
       "    <tr>\n",
       "      <th>1546324200</th>\n",
       "      <td>3689.0</td>\n",
       "      <td>3690.5</td>\n",
       "      <td>3689.0</td>\n",
       "      <td>3690.5</td>\n",
       "    </tr>\n",
       "    <tr>\n",
       "      <th>1546324500</th>\n",
       "      <td>3690.5</td>\n",
       "      <td>3691.0</td>\n",
       "      <td>3690.0</td>\n",
       "      <td>3690.5</td>\n",
       "    </tr>\n",
       "    <tr>\n",
       "      <th>...</th>\n",
       "      <td>...</td>\n",
       "      <td>...</td>\n",
       "      <td>...</td>\n",
       "      <td>...</td>\n",
       "    </tr>\n",
       "    <tr>\n",
       "      <th>1656024000</th>\n",
       "      <td>21066.0</td>\n",
       "      <td>21108.5</td>\n",
       "      <td>21050.5</td>\n",
       "      <td>21068.0</td>\n",
       "    </tr>\n",
       "    <tr>\n",
       "      <th>1656024300</th>\n",
       "      <td>21068.0</td>\n",
       "      <td>21148.0</td>\n",
       "      <td>21053.0</td>\n",
       "      <td>21085.0</td>\n",
       "    </tr>\n",
       "    <tr>\n",
       "      <th>1656024600</th>\n",
       "      <td>21085.0</td>\n",
       "      <td>21085.5</td>\n",
       "      <td>20962.0</td>\n",
       "      <td>20967.0</td>\n",
       "    </tr>\n",
       "    <tr>\n",
       "      <th>1656024900</th>\n",
       "      <td>20967.0</td>\n",
       "      <td>20995.5</td>\n",
       "      <td>20947.0</td>\n",
       "      <td>20979.5</td>\n",
       "    </tr>\n",
       "    <tr>\n",
       "      <th>1656025200</th>\n",
       "      <td>20979.5</td>\n",
       "      <td>21015.5</td>\n",
       "      <td>20962.0</td>\n",
       "      <td>21009.5</td>\n",
       "    </tr>\n",
       "  </tbody>\n",
       "</table>\n",
       "<p>365659 rows × 4 columns</p>\n",
       "</div>"
      ],
      "text/plain": [
       "               open     high      low    close\n",
       "timestamp                                     \n",
       "1546323300   3691.5   3691.5   3691.0   3691.5\n",
       "1546323600   3691.5   3691.5   3691.0   3691.0\n",
       "1546323900   3691.0   3691.5   3688.5   3689.0\n",
       "1546324200   3689.0   3690.5   3689.0   3690.5\n",
       "1546324500   3690.5   3691.0   3690.0   3690.5\n",
       "...             ...      ...      ...      ...\n",
       "1656024000  21066.0  21108.5  21050.5  21068.0\n",
       "1656024300  21068.0  21148.0  21053.0  21085.0\n",
       "1656024600  21085.0  21085.5  20962.0  20967.0\n",
       "1656024900  20967.0  20995.5  20947.0  20979.5\n",
       "1656025200  20979.5  21015.5  20962.0  21009.5\n",
       "\n",
       "[365659 rows x 4 columns]"
      ]
     },
     "execution_count": 2,
     "metadata": {},
     "output_type": "execute_result"
    }
   ],
   "source": [
    "X_Numerical = pd.read_csv(\"C:\\\\Users\\\\mimus\\\\Documents\\\\curso_deep_learning\\\\data\\\\BTC_OHLC.csv\")\n",
    "X_Numerical.sort_values('timestamp', inplace=True)\n",
    "X_Numerical=X_Numerical.reset_index(drop=True)\n",
    "X_Numerical=X_Numerical.set_index(\"timestamp\")\n",
    "X_Numerical"
   ]
  },
  {
   "cell_type": "code",
   "execution_count": 3,
   "id": "d9786711-88cb-4d6b-84be-d9f9f0070579",
   "metadata": {},
   "outputs": [
    {
     "data": {
      "text/plain": [
       "Index(['open', 'high', 'low', 'close'], dtype='object')"
      ]
     },
     "execution_count": 3,
     "metadata": {},
     "output_type": "execute_result"
    }
   ],
   "source": [
    "X_Numerical.columns"
   ]
  },
  {
   "cell_type": "code",
   "execution_count": 4,
   "id": "f961d424-c7b8-44fe-8995-2d6187ae127f",
   "metadata": {},
   "outputs": [],
   "source": [
    "X_Numerical['pct_change'] = X_Numerical.close.pct_change()\n",
    "X_Numerical['log_ret'] = np.log(X_Numerical.close) - np.log(X_Numerical.close.shift(1))\n",
    "X_Numerical[\"sdev\"] = X_Numerical.log_ret.rolling(window=60).std()\n",
    "X_Numerical=X_Numerical.iloc[60:]\n"
   ]
  },
  {
   "cell_type": "code",
   "execution_count": 5,
   "id": "2bb10b6a-e31a-4863-86cd-3e6e6ef91033",
   "metadata": {},
   "outputs": [],
   "source": [
    "cols = ['open', 'high', 'low', 'close',\"log_ret\", \"sdev\"]\n",
    "X_Numerical=X_Numerical[cols]"
   ]
  },
  {
   "cell_type": "code",
   "execution_count": null,
   "id": "079e4fd7-dcda-4b96-bc28-cbcb67893ecf",
   "metadata": {},
   "outputs": [],
   "source": []
  },
  {
   "cell_type": "code",
   "execution_count": 6,
   "id": "6eb23c5b-69a2-45fa-9212-449ef7f29204",
   "metadata": {},
   "outputs": [],
   "source": [
    "'''Create indexes to split dataset'''\n",
    "\n",
    "times = sorted(X_Numerical.index.values)\n",
    "last_10pct = sorted(X_Numerical.index.values)[-int(0.1*len(times))] # Last 10% of series\n",
    "last_20pct = sorted(X_Numerical.index.values)[-int(0.2*len(times))] # Last 20% of series\n",
    "\n",
    "scaler = MinMaxScaler(feature_range=(0, 1))\n",
    "\n",
    "data = X_Numerical.open.to_list()\n",
    "series = Series(data)\n",
    "values = series.values\n",
    "values = values.reshape((len(values), 1))\n",
    "scaler_open = scaler.fit(values)\n",
    "X_Numerical[\"open\"] = scaler_open.transform(values)                \n",
    "\n",
    "data = X_Numerical.high.to_list()\n",
    "series = Series(data)\n",
    "values = series.values\n",
    "values = values.reshape((len(values), 1))\n",
    "scaler_high = scaler.fit(values)\n",
    "X_Numerical[\"high\"] = scaler_high.transform(values)                         \n",
    "                                          \n",
    "data = X_Numerical.low.to_list()\n",
    "series = Series(data)\n",
    "values = series.values\n",
    "values = values.reshape((len(values), 1))\n",
    "scaler_low = scaler.fit(values)\n",
    "X_Numerical[\"low\"] = scaler_low.transform(values)                         \n",
    "                                          \n",
    "data = X_Numerical.close.to_list()\n",
    "series = Series(data)\n",
    "values = series.values\n",
    "values = values.reshape((len(values), 1))\n",
    "scaler_close = scaler.fit(values)\n",
    "X_Numerical[\"close\"] = scaler_close.transform(values)                         \n",
    "                                          \n",
    "\n",
    "data = X_Numerical.log_ret.to_list()\n",
    "series = Series(data)\n",
    "values = series.values\n",
    "values = values.reshape((len(values), 1))\n",
    "scaler_log_ret = scaler.fit(values)\n",
    "X_Numerical[\"log_ret\"] = scaler_log_ret.transform(values)  \n",
    "\n",
    "# data = X_Numerical.sdev.to_list()\n",
    "# series = Series(data)\n",
    "# values = series.values\n",
    "# values = values.reshape((len(values), 1))\n",
    "# scaler_sdev = scaler.fit(values)\n",
    "# X_Numerical[\"sdev\"] = scaler_sdev.transform(values)         "
   ]
  },
  {
   "cell_type": "code",
   "execution_count": 7,
   "id": "720d5919-c853-4481-8f68-16e104a7bf44",
   "metadata": {},
   "outputs": [
    {
     "name": "stdout",
     "output_type": "stream",
     "text": [
      "Training data shape: (292480, 6)\n",
      "Validation data shape: (36560, 6)\n",
      "Test data shape: (36559, 6)\n"
     ]
    }
   ],
   "source": [
    "train_num = X_Numerical[(X_Numerical.index < last_20pct)]  # Training data are 80% of total data\n",
    "val_num = X_Numerical[(X_Numerical.index >= last_20pct) & (X_Numerical.index < last_10pct)]\n",
    "test_num = X_Numerical[(X_Numerical.index >= last_10pct)]\n",
    "\n",
    "# Convert pandas columns into arrays\n",
    "train_num = train_num.values\n",
    "val_num = val_num.values\n",
    "test_num = test_num.values\n",
    "print('Training data shape: {}'.format(train_num.shape))\n",
    "print('Validation data shape: {}'.format(val_num.shape))\n",
    "print('Test data shape: {}'.format(test_num.shape))"
   ]
  },
  {
   "cell_type": "code",
   "execution_count": 8,
   "id": "05f49070-b8da-4c4a-b28b-a462784387bb",
   "metadata": {},
   "outputs": [],
   "source": [
    "batch_size =512\n",
    "seq_len = 128"
   ]
  },
  {
   "cell_type": "code",
   "execution_count": 9,
   "id": "f451de8c-8e6e-42e4-865a-990e3e9ee4b3",
   "metadata": {},
   "outputs": [],
   "source": [
    "# Training data#aqui debemos de poner el img paths\n",
    "XN_train,   y_train = [],[]\n",
    "for i in range(seq_len, len(train_num)):\n",
    "    XN_train.append(train_num[i-seq_len:i])# Chunks of training data with a length of 128 df-rows\n",
    "    \n",
    "    y_train.append(train_num[:, -1][i]) #Value of 4th column (Close Price) of df-row 128+1\n",
    "XN_train,  y_train = np.array(XN_train), np.array(y_train)\n",
    "\n",
    "###############################################################################\n",
    "\n",
    "# Validation data\n",
    "XN_val, y_val = [], []\n",
    "for i in range(seq_len, len(val_num)):\n",
    "    XN_val.append(val_num[i-seq_len:i]) # Chunks of training data with a length of 128 df-rows\n",
    "\n",
    "    y_val.append(val_num[:, -1][i]) #Value of 4th column (Close Price) of df-row 128+1\n",
    "XN_val,  y_val = np.array(XN_val), np.array(y_val)\n"
   ]
  },
  {
   "cell_type": "code",
   "execution_count": 10,
   "id": "3d1da5df-f201-44c9-82b5-2d8be85d1946",
   "metadata": {},
   "outputs": [],
   "source": [
    "\n",
    "\n",
    "\n",
    "def dataset_gen(df,positions,batch_size):\n",
    "    x_numerical = tf.constant([np.array(x) for x in df.x_nums.values]) \n",
    "    train_dataset = tf.data.Dataset.from_tensor_slices((x_numerical, positions))\n",
    "    train_dataset = train_dataset.batch(batch_size)\n",
    "    return train_dataset\n",
    "df = pd.DataFrame({'x_nums':list(XN_train)})\n",
    "train_data = dataset_gen(df,y_train,batch_size)\n",
    "\n",
    "df = pd.DataFrame({'x_nums':list(XN_val)})\n",
    "\n",
    "val_data = dataset_gen(df,y_val,batch_size)\n"
   ]
  },
  {
   "cell_type": "code",
   "execution_count": 11,
   "id": "35d1fe75-2591-46b6-a944-8474f6655f87",
   "metadata": {},
   "outputs": [],
   "source": [
    "class Time2Vector(Layer):\n",
    "  def __init__(self, seq_len, **kwargs):\n",
    "    super(Time2Vector, self).__init__()\n",
    "    self.seq_len = seq_len\n",
    "\n",
    "  def build(self, input_shape):\n",
    "    '''Initialize weights and biases with shape (batch, seq_len)'''\n",
    "    self.weights_linear = self.add_weight(name='weight_linear',\n",
    "                                shape=(int(self.seq_len),),\n",
    "                                initializer='uniform',\n",
    "                                trainable=True)\n",
    "    \n",
    "    self.bias_linear = self.add_weight(name='bias_linear',\n",
    "                                shape=(int(self.seq_len),),\n",
    "                                initializer='uniform',\n",
    "                                trainable=True)\n",
    "    \n",
    "    self.weights_periodic = self.add_weight(name='weight_periodic',\n",
    "                                shape=(int(self.seq_len),),\n",
    "                                initializer='uniform',\n",
    "                                trainable=True)\n",
    "\n",
    "    self.bias_periodic = self.add_weight(name='bias_periodic',\n",
    "                                shape=(int(self.seq_len),),\n",
    "                                initializer='uniform',\n",
    "                                trainable=True)\n",
    "\n",
    "  def call(self, x):\n",
    "    '''Calculate linear and periodic time features'''\n",
    "    x = x[:,:,-1]\n",
    "    time_linear = self.weights_linear * x + self.bias_linear # Linear time feature\n",
    "    time_linear = tf.expand_dims(time_linear, axis=-1) # Add dimension (batch, seq_len, 1)\n",
    "    \n",
    "    time_periodic = tf.math.sin(tf.multiply(x, self.weights_periodic) + self.bias_periodic)\n",
    "    time_periodic = tf.expand_dims(time_periodic, axis=-1) # Add dimension (batch, seq_len, 1)\n",
    "    return tf.concat([time_linear, time_periodic], axis=-1) # shape = (batch, seq_len, 2)\n",
    "   \n",
    "  def get_config(self): # Needed for saving and loading model with custom layer\n",
    "    config = super().get_config().copy()\n",
    "    config.update({'seq_len': self.seq_len})\n",
    "    return config\n",
    "  "
   ]
  },
  {
   "cell_type": "code",
   "execution_count": 12,
   "id": "0501c844-7ff1-4f22-a9d4-3525e7405935",
   "metadata": {},
   "outputs": [
    {
     "data": {
      "text/plain": [
       "((292352, 128, 6), (292352,))"
      ]
     },
     "execution_count": 12,
     "metadata": {},
     "output_type": "execute_result"
    }
   ],
   "source": [
    "plotlosses = PlotLossesKeras()\n",
    "XN_train.shape,y_train.shape\n"
   ]
  },
  {
   "cell_type": "code",
   "execution_count": 13,
   "id": "c8ca3658-1f50-419f-8274-649820b5cff6",
   "metadata": {},
   "outputs": [
    {
     "name": "stdout",
     "output_type": "stream",
     "text": [
      "batch_size  512 seq_len  128 d_k  64 d_v  64 n_heads  16 ff_dim  64\n"
     ]
    }
   ],
   "source": [
    "d_k = 64\n",
    "\n",
    "n_heads = 16\n",
    "ff_dim = 64\n",
    "d_v =64\n",
    "print(\"batch_size \",batch_size,\"seq_len \", seq_len,\"d_k \", d_k ,\"d_v \",d_v , \"n_heads \", n_heads,\"ff_dim \", ff_dim)"
   ]
  },
  {
   "cell_type": "code",
   "execution_count": 14,
   "id": "8b30ca7d-1f88-42a3-9e4e-f68a24286d3f",
   "metadata": {},
   "outputs": [
    {
     "name": "stdout",
     "output_type": "stream",
     "text": [
      "Model: \"model\"\n",
      "__________________________________________________________________________________________________\n",
      " Layer (type)                   Output Shape         Param #     Connected to                     \n",
      "==================================================================================================\n",
      " input_1 (InputLayer)           [(None, 128, 6)]     0           []                               \n",
      "                                                                                                  \n",
      " time2_vector (Time2Vector)     (None, 128, 2)       512         ['input_1[0][0]']                \n",
      "                                                                                                  \n",
      " concatenate (Concatenate)      (None, 128, 8)       0           ['input_1[0][0]',                \n",
      "                                                                  'time2_vector[0][0]']           \n",
      "                                                                                                  \n",
      " multi_head_attention (MultiHea  (None, 128, 8)      35848       ['concatenate[0][0]',            \n",
      " dAttention)                                                      'concatenate[0][0]',            \n",
      "                                                                  'concatenate[0][0]']            \n",
      "                                                                                                  \n",
      " multi_head_attention_1 (MultiH  (None, 128, 8)      35848       ['multi_head_attention[0][0]',   \n",
      " eadAttention)                                                    'multi_head_attention[0][0]',   \n",
      "                                                                  'multi_head_attention[0][0]']   \n",
      "                                                                                                  \n",
      " multi_head_attention_2 (MultiH  (None, 128, 8)      35848       ['multi_head_attention_1[0][0]', \n",
      " eadAttention)                                                    'multi_head_attention_1[0][0]', \n",
      "                                                                  'multi_head_attention_1[0][0]'] \n",
      "                                                                                                  \n",
      " lstm (LSTM)                    (None, 128)          70144       ['multi_head_attention_2[0][0]'] \n",
      "                                                                                                  \n",
      " dense (Dense)                  (None, 64)           8256        ['lstm[0][0]']                   \n",
      "                                                                                                  \n",
      " dense_1 (Dense)                (None, 1)            65          ['dense[0][0]']                  \n",
      "                                                                                                  \n",
      "==================================================================================================\n",
      "Total params: 186,521\n",
      "Trainable params: 186,521\n",
      "Non-trainable params: 0\n",
      "__________________________________________________________________________________________________\n"
     ]
    }
   ],
   "source": [
    "def create_model():\n",
    "    '''Initialize time and transformer layers'''\n",
    "    time_embedding = Time2Vector(seq_len)\n",
    "\n",
    "    '''Construct model'''\n",
    "    liq_seq = Input(shape=(seq_len, XN_train.shape[2],))\n",
    "    \n",
    "    x_t = time_embedding(liq_seq)\n",
    "    x_liq= Concatenate(axis=-1)([liq_seq, x_t])\n",
    "    \n",
    "    x_liq = MultiHeadAttention(num_heads=n_heads, key_dim=d_k,value_dim=d_v)(x_liq,x_liq,x_liq)\n",
    "    x_liq = MultiHeadAttention(num_heads=n_heads, key_dim=d_k,value_dim=d_v)(x_liq,x_liq,x_liq)\n",
    "    x_liq = MultiHeadAttention(num_heads=n_heads, key_dim=d_k,value_dim=d_v)(x_liq,x_liq,x_liq)\n",
    "\n",
    "    x_liq = LSTM(128, return_sequences=False)(x_liq)\n",
    "\n",
    "    x_liq = Dense(64, activation=tfa.activations.mish)(x_liq)\n",
    "\n",
    "    out = Dense(1)(x_liq)\n",
    "\n",
    "    model = Model(inputs=liq_seq, outputs=out)\n",
    "    tf.keras.utils.plot_model(model, show_shapes=True)\n",
    "    model.compile(loss=[\"mae\"], \n",
    "                  optimizer=tf.keras.optimizers.RMSprop(learning_rate=1e-3),\n",
    "                  metrics=[\"mae\"])\n",
    "    return model\n",
    "model = create_model()\n",
    "model.summary()\n"
   ]
  },
  {
   "cell_type": "code",
   "execution_count": 15,
   "id": "5d87c0f3-5076-4031-be08-97f22f1bfa69",
   "metadata": {},
   "outputs": [
    {
     "data": {
      "image/png": "[encoded data removed]",
      "text/plain": [
       "<Figure size 1200x800 with 2 Axes>"
      ]
     },
     "metadata": {},
     "output_type": "display_data"
    },
    {
     "name": "stdout",
     "output_type": "stream",
     "text": [
      "Loss\n",
      "\ttraining         \t (min:    0.002, max:    0.018, cur:    0.002)\n",
      "\tvalidation       \t (min:    0.002, max:    0.014, cur:    0.002)\n",
      "mae\n",
      "\ttraining         \t (min:    0.002, max:    0.018, cur:    0.002)\n",
      "\tvalidation       \t (min:    0.002, max:    0.014, cur:    0.002)\n",
      "571/571 [==============================] - 103s 180ms/step - loss: 0.0022 - mae: 0.0022 - val_loss: 0.0024 - val_mae: 0.0024\n"
     ]
    }
   ],
   "source": [
    "\n",
    "history = model.fit(train_data,\n",
    "                        batch_size=batch_size,\n",
    "                        epochs=100,\n",
    "                        shuffle=False,\n",
    "                        callbacks=[plotlosses],\n",
    "                        validation_data=val_data\n",
    "                       )"
   ]
  },
  {
   "cell_type": "code",
   "execution_count": null,
   "id": "81e7cd3c-2934-444d-9fac-6ed581b1a96c",
   "metadata": {},
   "outputs": [],
   "source": []
  }
 ],
 "metadata": {
  "kernelspec": {
   "display_name": "Python 3 (ipykernel)",
   "language": "python",
   "name": "python3"
  },
  "language_info": {
   "codemirror_mode": {
    "name": "ipython",
    "version": 3
   },
   "file_extension": ".py",
   "mimetype": "text/x-python",
   "name": "python",
   "nbconvert_exporter": "python",
   "pygments_lexer": "ipython3",
   "version": "3.8.0"
  }
 },
 "nbformat": 4,
 "nbformat_minor": 5
}
